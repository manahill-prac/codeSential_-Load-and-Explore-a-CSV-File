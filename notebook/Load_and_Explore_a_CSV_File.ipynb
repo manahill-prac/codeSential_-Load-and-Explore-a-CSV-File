{
  "nbformat": 4,
  "nbformat_minor": 0,
  "metadata": {
    "colab": {
      "provenance": []
    },
    "kernelspec": {
      "name": "python3",
      "display_name": "Python 3"
    },
    "language_info": {
      "name": "python"
    }
  },
  "cells": [
    {
      "cell_type": "markdown",
      "source": [
        "# <h1 style=\"color:#2E86C1; text-align:center;\"> Load & Explore a CSV File (Iris Dataset)</h1>\n",
        "\n",
        "---\n"
      ],
      "metadata": {
        "id": "xdgdoI0T03_e"
      }
    },
    {
      "cell_type": "markdown",
      "source": [
        "### <h2 style=\"color:#117A65;\">🔹 Step 1: Import Libraries</h2>\n"
      ],
      "metadata": {
        "id": "Kf7UTTLc1WJ0"
      }
    },
    {
      "cell_type": "code",
      "source": [
        "import pandas as pd\n",
        "import numpy as np\n"
      ],
      "metadata": {
        "id": "t4wEay5Q04wx"
      },
      "execution_count": 7,
      "outputs": []
    },
    {
      "cell_type": "markdown",
      "source": [
        "### <h2 style=\"color:#117A65;\">🔹 Step 2: Load Dataset from Google Drive</h2>\n",
        "File ID: `1x9fdyHJ5ZnLF_pxv1UStEcW9BvnckuNO`\n"
      ],
      "metadata": {
        "id": "m04P7laI1fvt"
      }
    },
    {
      "cell_type": "code",
      "source": [
        "file_id = \"1x9fdyHJ5ZnLF_pxv1UStEcW9BvnckuNO\"\n",
        "url = f\"https://drive.google.com/uc?id={file_id}\"\n",
        "df = pd.read_csv(url)\n",
        "print(\" Dataset Loaded Successfully!\")\n"
      ],
      "metadata": {
        "colab": {
          "base_uri": "https://localhost:8080/"
        },
        "id": "bIcXM3UF1H7R",
        "outputId": "4dfc3cdd-b67b-4bbb-f54d-3559e3aedc85"
      },
      "execution_count": 8,
      "outputs": [
        {
          "output_type": "stream",
          "name": "stdout",
          "text": [
            " Dataset Loaded Successfully!\n"
          ]
        }
      ]
    },
    {
      "cell_type": "markdown",
      "source": [
        "### <h2 style=\"color:#117A65;\">🔹 Step 3: First Look at Dataset</h2>\n",
        "\n"
      ],
      "metadata": {
        "id": "kUzRg4JD1h-U"
      }
    },
    {
      "cell_type": "code",
      "source": [
        "display(HTML(\"<h3 style='color:#1F618D;'> First 5 Rows of Dataset</h3>\"))\n",
        "\n",
        "display(df.head().style.set_table_styles([\n",
        "    {\"selector\": \"th\", \"props\": [(\"background-color\", \"#20B2AA\"), (\"color\", \"black\"), (\"font-weight\", \"bold\")]},\n",
        "    {\"selector\": \"td\", \"props\": [(\"border\", \"1px solid #34495E\"), (\"padding\", \"6px\")]}\n",
        "]).set_properties(**{'text-align': 'center'}))\n"
      ],
      "metadata": {
        "colab": {
          "base_uri": "https://localhost:8080/",
          "height": 247
        },
        "id": "kTAoH8Dv1Oi-",
        "outputId": "51dfdb07-eb5c-4f30-be76-4bec560ec7eb"
      },
      "execution_count": 22,
      "outputs": [
        {
          "output_type": "display_data",
          "data": {
            "text/plain": [
              "<IPython.core.display.HTML object>"
            ],
            "text/html": [
              "<h3 style='color:#1F618D;'> First 5 Rows of Dataset</h3>"
            ]
          },
          "metadata": {}
        },
        {
          "output_type": "display_data",
          "data": {
            "text/plain": [
              "<pandas.io.formats.style.Styler at 0x7ec54e80dc40>"
            ],
            "text/html": [
              "<style type=\"text/css\">\n",
              "#T_1faba th {\n",
              "  background-color: #20B2AA;\n",
              "  color: black;\n",
              "  font-weight: bold;\n",
              "}\n",
              "#T_1faba td {\n",
              "  border: 1px solid #34495E;\n",
              "  padding: 6px;\n",
              "}\n",
              "#T_1faba_row0_col0, #T_1faba_row0_col1, #T_1faba_row0_col2, #T_1faba_row0_col3, #T_1faba_row0_col4, #T_1faba_row0_col5, #T_1faba_row1_col0, #T_1faba_row1_col1, #T_1faba_row1_col2, #T_1faba_row1_col3, #T_1faba_row1_col4, #T_1faba_row1_col5, #T_1faba_row2_col0, #T_1faba_row2_col1, #T_1faba_row2_col2, #T_1faba_row2_col3, #T_1faba_row2_col4, #T_1faba_row2_col5, #T_1faba_row3_col0, #T_1faba_row3_col1, #T_1faba_row3_col2, #T_1faba_row3_col3, #T_1faba_row3_col4, #T_1faba_row3_col5, #T_1faba_row4_col0, #T_1faba_row4_col1, #T_1faba_row4_col2, #T_1faba_row4_col3, #T_1faba_row4_col4, #T_1faba_row4_col5 {\n",
              "  text-align: center;\n",
              "}\n",
              "</style>\n",
              "<table id=\"T_1faba\" class=\"dataframe\">\n",
              "  <thead>\n",
              "    <tr>\n",
              "      <th class=\"blank level0\" >&nbsp;</th>\n",
              "      <th id=\"T_1faba_level0_col0\" class=\"col_heading level0 col0\" >Id</th>\n",
              "      <th id=\"T_1faba_level0_col1\" class=\"col_heading level0 col1\" >SepalLengthCm</th>\n",
              "      <th id=\"T_1faba_level0_col2\" class=\"col_heading level0 col2\" >SepalWidthCm</th>\n",
              "      <th id=\"T_1faba_level0_col3\" class=\"col_heading level0 col3\" >PetalLengthCm</th>\n",
              "      <th id=\"T_1faba_level0_col4\" class=\"col_heading level0 col4\" >PetalWidthCm</th>\n",
              "      <th id=\"T_1faba_level0_col5\" class=\"col_heading level0 col5\" >Species</th>\n",
              "    </tr>\n",
              "  </thead>\n",
              "  <tbody>\n",
              "    <tr>\n",
              "      <th id=\"T_1faba_level0_row0\" class=\"row_heading level0 row0\" >0</th>\n",
              "      <td id=\"T_1faba_row0_col0\" class=\"data row0 col0\" >1</td>\n",
              "      <td id=\"T_1faba_row0_col1\" class=\"data row0 col1\" >5.100000</td>\n",
              "      <td id=\"T_1faba_row0_col2\" class=\"data row0 col2\" >3.500000</td>\n",
              "      <td id=\"T_1faba_row0_col3\" class=\"data row0 col3\" >1.400000</td>\n",
              "      <td id=\"T_1faba_row0_col4\" class=\"data row0 col4\" >0.200000</td>\n",
              "      <td id=\"T_1faba_row0_col5\" class=\"data row0 col5\" >Iris-setosa</td>\n",
              "    </tr>\n",
              "    <tr>\n",
              "      <th id=\"T_1faba_level0_row1\" class=\"row_heading level0 row1\" >1</th>\n",
              "      <td id=\"T_1faba_row1_col0\" class=\"data row1 col0\" >2</td>\n",
              "      <td id=\"T_1faba_row1_col1\" class=\"data row1 col1\" >4.900000</td>\n",
              "      <td id=\"T_1faba_row1_col2\" class=\"data row1 col2\" >3.000000</td>\n",
              "      <td id=\"T_1faba_row1_col3\" class=\"data row1 col3\" >1.400000</td>\n",
              "      <td id=\"T_1faba_row1_col4\" class=\"data row1 col4\" >0.200000</td>\n",
              "      <td id=\"T_1faba_row1_col5\" class=\"data row1 col5\" >Iris-setosa</td>\n",
              "    </tr>\n",
              "    <tr>\n",
              "      <th id=\"T_1faba_level0_row2\" class=\"row_heading level0 row2\" >2</th>\n",
              "      <td id=\"T_1faba_row2_col0\" class=\"data row2 col0\" >3</td>\n",
              "      <td id=\"T_1faba_row2_col1\" class=\"data row2 col1\" >4.700000</td>\n",
              "      <td id=\"T_1faba_row2_col2\" class=\"data row2 col2\" >3.200000</td>\n",
              "      <td id=\"T_1faba_row2_col3\" class=\"data row2 col3\" >1.300000</td>\n",
              "      <td id=\"T_1faba_row2_col4\" class=\"data row2 col4\" >0.200000</td>\n",
              "      <td id=\"T_1faba_row2_col5\" class=\"data row2 col5\" >Iris-setosa</td>\n",
              "    </tr>\n",
              "    <tr>\n",
              "      <th id=\"T_1faba_level0_row3\" class=\"row_heading level0 row3\" >3</th>\n",
              "      <td id=\"T_1faba_row3_col0\" class=\"data row3 col0\" >4</td>\n",
              "      <td id=\"T_1faba_row3_col1\" class=\"data row3 col1\" >4.600000</td>\n",
              "      <td id=\"T_1faba_row3_col2\" class=\"data row3 col2\" >3.100000</td>\n",
              "      <td id=\"T_1faba_row3_col3\" class=\"data row3 col3\" >1.500000</td>\n",
              "      <td id=\"T_1faba_row3_col4\" class=\"data row3 col4\" >0.200000</td>\n",
              "      <td id=\"T_1faba_row3_col5\" class=\"data row3 col5\" >Iris-setosa</td>\n",
              "    </tr>\n",
              "    <tr>\n",
              "      <th id=\"T_1faba_level0_row4\" class=\"row_heading level0 row4\" >4</th>\n",
              "      <td id=\"T_1faba_row4_col0\" class=\"data row4 col0\" >5</td>\n",
              "      <td id=\"T_1faba_row4_col1\" class=\"data row4 col1\" >5.000000</td>\n",
              "      <td id=\"T_1faba_row4_col2\" class=\"data row4 col2\" >3.600000</td>\n",
              "      <td id=\"T_1faba_row4_col3\" class=\"data row4 col3\" >1.400000</td>\n",
              "      <td id=\"T_1faba_row4_col4\" class=\"data row4 col4\" >0.200000</td>\n",
              "      <td id=\"T_1faba_row4_col5\" class=\"data row4 col5\" >Iris-setosa</td>\n",
              "    </tr>\n",
              "  </tbody>\n",
              "</table>\n"
            ]
          },
          "metadata": {}
        }
      ]
    },
    {
      "cell_type": "markdown",
      "source": [
        "### <h2 style=\"color:#117A65;\">🔹 Step 4: Dataset Info (Polished)</h2>\n",
        "We will explore:\n",
        "- 📑 **Column Names**\n",
        "- 📐 **Shape (Rows, Columns)**\n",
        "- 🧾 **Data Types**\n"
      ],
      "metadata": {
        "id": "HFnzSQD61Ual"
      }
    },
    {
      "cell_type": "code",
      "source": [
        "from IPython.display import display, HTML\n",
        "\n",
        "#  Column Names\n",
        "display(HTML(f\"\"\"\n",
        "<h3 style=\"color:#1F618D;\"> Column Names</h3>\n",
        "<p style=\"font-size:14px; color:#2C3E50;\"><b>{df.columns.tolist()}</b></p>\n",
        "<hr>\n",
        "\"\"\"))\n",
        "\n",
        "#  Shape\n",
        "display(HTML(f\"\"\"\n",
        "<h3 style=\"color:#1F618D;\"> Shape</h3>\n",
        "<p style=\"font-size:14px; color:#2C3E50;\">\n",
        "<b>Rows:</b> {df.shape[0]} | <b>Columns:</b> {df.shape[1]}\n",
        "</p>\n",
        "<hr>\n",
        "\"\"\"))\n",
        "\n",
        "#  Data Types\n",
        "styled_dtypes = pd.DataFrame(df.dtypes, columns=[\"Data Type\"])\n",
        "display(HTML(\"<h3 style='color:#1F618D;'> Data Types</h3>\"))\n",
        "display(styled_dtypes.style.set_table_styles([\n",
        "    {\"selector\": \"th\", \"props\": [(\"background-color\", \"#20B2AA\"), (\"color\", \"black\"), (\"font-weight\", \"bold\")]},\n",
        "    {\"selector\": \"td\", \"props\": [(\"border\", \"1px solid #34495E\"), (\"padding\", \"8px\")]}\n",
        "]).set_properties(**{'text-align': 'center'}))\n"
      ],
      "metadata": {
        "colab": {
          "base_uri": "https://localhost:8080/",
          "height": 435
        },
        "id": "fHiNHGxw1ufi",
        "outputId": "b36dcb21-d0d4-4a36-9f2f-00e007d027d7"
      },
      "execution_count": 32,
      "outputs": [
        {
          "output_type": "display_data",
          "data": {
            "text/plain": [
              "<IPython.core.display.HTML object>"
            ],
            "text/html": [
              "\n",
              "<h3 style=\"color:#1F618D;\"> Column Names</h3>\n",
              "<p style=\"font-size:14px; color:#2C3E50;\"><b>['Id', 'SepalLengthCm', 'SepalWidthCm', 'PetalLengthCm', 'PetalWidthCm', 'Species']</b></p>\n",
              "<hr>\n"
            ]
          },
          "metadata": {}
        },
        {
          "output_type": "display_data",
          "data": {
            "text/plain": [
              "<IPython.core.display.HTML object>"
            ],
            "text/html": [
              "\n",
              "<h3 style=\"color:#1F618D;\"> Shape</h3>\n",
              "<p style=\"font-size:14px; color:#2C3E50;\">\n",
              "<b>Rows:</b> 150 | <b>Columns:</b> 6\n",
              "</p>\n",
              "<hr>\n"
            ]
          },
          "metadata": {}
        },
        {
          "output_type": "display_data",
          "data": {
            "text/plain": [
              "<IPython.core.display.HTML object>"
            ],
            "text/html": [
              "<h3 style='color:#1F618D;'> Data Types</h3>"
            ]
          },
          "metadata": {}
        },
        {
          "output_type": "display_data",
          "data": {
            "text/plain": [
              "<pandas.io.formats.style.Styler at 0x7ec54e496060>"
            ],
            "text/html": [
              "<style type=\"text/css\">\n",
              "#T_2f615 th {\n",
              "  background-color: #20B2AA;\n",
              "  color: black;\n",
              "  font-weight: bold;\n",
              "}\n",
              "#T_2f615 td {\n",
              "  border: 1px solid #34495E;\n",
              "  padding: 8px;\n",
              "}\n",
              "#T_2f615_row0_col0, #T_2f615_row1_col0, #T_2f615_row2_col0, #T_2f615_row3_col0, #T_2f615_row4_col0, #T_2f615_row5_col0 {\n",
              "  text-align: center;\n",
              "}\n",
              "</style>\n",
              "<table id=\"T_2f615\" class=\"dataframe\">\n",
              "  <thead>\n",
              "    <tr>\n",
              "      <th class=\"blank level0\" >&nbsp;</th>\n",
              "      <th id=\"T_2f615_level0_col0\" class=\"col_heading level0 col0\" >Data Type</th>\n",
              "    </tr>\n",
              "  </thead>\n",
              "  <tbody>\n",
              "    <tr>\n",
              "      <th id=\"T_2f615_level0_row0\" class=\"row_heading level0 row0\" >Id</th>\n",
              "      <td id=\"T_2f615_row0_col0\" class=\"data row0 col0\" >int64</td>\n",
              "    </tr>\n",
              "    <tr>\n",
              "      <th id=\"T_2f615_level0_row1\" class=\"row_heading level0 row1\" >SepalLengthCm</th>\n",
              "      <td id=\"T_2f615_row1_col0\" class=\"data row1 col0\" >float64</td>\n",
              "    </tr>\n",
              "    <tr>\n",
              "      <th id=\"T_2f615_level0_row2\" class=\"row_heading level0 row2\" >SepalWidthCm</th>\n",
              "      <td id=\"T_2f615_row2_col0\" class=\"data row2 col0\" >float64</td>\n",
              "    </tr>\n",
              "    <tr>\n",
              "      <th id=\"T_2f615_level0_row3\" class=\"row_heading level0 row3\" >PetalLengthCm</th>\n",
              "      <td id=\"T_2f615_row3_col0\" class=\"data row3 col0\" >float64</td>\n",
              "    </tr>\n",
              "    <tr>\n",
              "      <th id=\"T_2f615_level0_row4\" class=\"row_heading level0 row4\" >PetalWidthCm</th>\n",
              "      <td id=\"T_2f615_row4_col0\" class=\"data row4 col0\" >float64</td>\n",
              "    </tr>\n",
              "    <tr>\n",
              "      <th id=\"T_2f615_level0_row5\" class=\"row_heading level0 row5\" >Species</th>\n",
              "      <td id=\"T_2f615_row5_col0\" class=\"data row5 col0\" >object</td>\n",
              "    </tr>\n",
              "  </tbody>\n",
              "</table>\n"
            ]
          },
          "metadata": {}
        }
      ]
    },
    {
      "cell_type": "markdown",
      "source": [
        "### <h2 style=\"color:#117A65;\">🔹 Step 5: Summary Statistics</h2>\n"
      ],
      "metadata": {
        "id": "rgHKhtCL1xbH"
      }
    },
    {
      "cell_type": "code",
      "source": [
        "display(HTML(\"<h3 style='color:#1F618D;'> Summary Statistics</h3>\"))\n",
        "display(df.describe(include=\"all\").style.set_table_styles([\n",
        "    {\"selector\": \"th\", \"props\": [(\"background-color\", \"#20B2AA\"), (\"color\", \"black\"), (\"font-weight\", \"bold\")]},\n",
        "    {\"selector\": \"td\", \"props\": [(\"border\", \"1px solid #34495E\"), (\"padding\", \"6px\")]}\n",
        "]).set_properties(**{'text-align': 'center'}))\n",
        "\n"
      ],
      "metadata": {
        "colab": {
          "base_uri": "https://localhost:8080/",
          "height": 435
        },
        "id": "_2x9UInw1wqq",
        "outputId": "282fb5b3-1783-4a51-e2d5-b2d34e14084d"
      },
      "execution_count": 33,
      "outputs": [
        {
          "output_type": "display_data",
          "data": {
            "text/plain": [
              "<IPython.core.display.HTML object>"
            ],
            "text/html": [
              "<h3 style='color:#1F618D;'> Summary Statistics</h3>"
            ]
          },
          "metadata": {}
        },
        {
          "output_type": "display_data",
          "data": {
            "text/plain": [
              "<pandas.io.formats.style.Styler at 0x7ec54e80dc40>"
            ],
            "text/html": [
              "<style type=\"text/css\">\n",
              "#T_a09d7 th {\n",
              "  background-color: #20B2AA;\n",
              "  color: black;\n",
              "  font-weight: bold;\n",
              "}\n",
              "#T_a09d7 td {\n",
              "  border: 1px solid #34495E;\n",
              "  padding: 6px;\n",
              "}\n",
              "#T_a09d7_row0_col0, #T_a09d7_row0_col1, #T_a09d7_row0_col2, #T_a09d7_row0_col3, #T_a09d7_row0_col4, #T_a09d7_row0_col5, #T_a09d7_row1_col0, #T_a09d7_row1_col1, #T_a09d7_row1_col2, #T_a09d7_row1_col3, #T_a09d7_row1_col4, #T_a09d7_row1_col5, #T_a09d7_row2_col0, #T_a09d7_row2_col1, #T_a09d7_row2_col2, #T_a09d7_row2_col3, #T_a09d7_row2_col4, #T_a09d7_row2_col5, #T_a09d7_row3_col0, #T_a09d7_row3_col1, #T_a09d7_row3_col2, #T_a09d7_row3_col3, #T_a09d7_row3_col4, #T_a09d7_row3_col5, #T_a09d7_row4_col0, #T_a09d7_row4_col1, #T_a09d7_row4_col2, #T_a09d7_row4_col3, #T_a09d7_row4_col4, #T_a09d7_row4_col5, #T_a09d7_row5_col0, #T_a09d7_row5_col1, #T_a09d7_row5_col2, #T_a09d7_row5_col3, #T_a09d7_row5_col4, #T_a09d7_row5_col5, #T_a09d7_row6_col0, #T_a09d7_row6_col1, #T_a09d7_row6_col2, #T_a09d7_row6_col3, #T_a09d7_row6_col4, #T_a09d7_row6_col5, #T_a09d7_row7_col0, #T_a09d7_row7_col1, #T_a09d7_row7_col2, #T_a09d7_row7_col3, #T_a09d7_row7_col4, #T_a09d7_row7_col5, #T_a09d7_row8_col0, #T_a09d7_row8_col1, #T_a09d7_row8_col2, #T_a09d7_row8_col3, #T_a09d7_row8_col4, #T_a09d7_row8_col5, #T_a09d7_row9_col0, #T_a09d7_row9_col1, #T_a09d7_row9_col2, #T_a09d7_row9_col3, #T_a09d7_row9_col4, #T_a09d7_row9_col5, #T_a09d7_row10_col0, #T_a09d7_row10_col1, #T_a09d7_row10_col2, #T_a09d7_row10_col3, #T_a09d7_row10_col4, #T_a09d7_row10_col5 {\n",
              "  text-align: center;\n",
              "}\n",
              "</style>\n",
              "<table id=\"T_a09d7\" class=\"dataframe\">\n",
              "  <thead>\n",
              "    <tr>\n",
              "      <th class=\"blank level0\" >&nbsp;</th>\n",
              "      <th id=\"T_a09d7_level0_col0\" class=\"col_heading level0 col0\" >Id</th>\n",
              "      <th id=\"T_a09d7_level0_col1\" class=\"col_heading level0 col1\" >SepalLengthCm</th>\n",
              "      <th id=\"T_a09d7_level0_col2\" class=\"col_heading level0 col2\" >SepalWidthCm</th>\n",
              "      <th id=\"T_a09d7_level0_col3\" class=\"col_heading level0 col3\" >PetalLengthCm</th>\n",
              "      <th id=\"T_a09d7_level0_col4\" class=\"col_heading level0 col4\" >PetalWidthCm</th>\n",
              "      <th id=\"T_a09d7_level0_col5\" class=\"col_heading level0 col5\" >Species</th>\n",
              "    </tr>\n",
              "  </thead>\n",
              "  <tbody>\n",
              "    <tr>\n",
              "      <th id=\"T_a09d7_level0_row0\" class=\"row_heading level0 row0\" >count</th>\n",
              "      <td id=\"T_a09d7_row0_col0\" class=\"data row0 col0\" >150.000000</td>\n",
              "      <td id=\"T_a09d7_row0_col1\" class=\"data row0 col1\" >150.000000</td>\n",
              "      <td id=\"T_a09d7_row0_col2\" class=\"data row0 col2\" >150.000000</td>\n",
              "      <td id=\"T_a09d7_row0_col3\" class=\"data row0 col3\" >150.000000</td>\n",
              "      <td id=\"T_a09d7_row0_col4\" class=\"data row0 col4\" >150.000000</td>\n",
              "      <td id=\"T_a09d7_row0_col5\" class=\"data row0 col5\" >150</td>\n",
              "    </tr>\n",
              "    <tr>\n",
              "      <th id=\"T_a09d7_level0_row1\" class=\"row_heading level0 row1\" >unique</th>\n",
              "      <td id=\"T_a09d7_row1_col0\" class=\"data row1 col0\" >nan</td>\n",
              "      <td id=\"T_a09d7_row1_col1\" class=\"data row1 col1\" >nan</td>\n",
              "      <td id=\"T_a09d7_row1_col2\" class=\"data row1 col2\" >nan</td>\n",
              "      <td id=\"T_a09d7_row1_col3\" class=\"data row1 col3\" >nan</td>\n",
              "      <td id=\"T_a09d7_row1_col4\" class=\"data row1 col4\" >nan</td>\n",
              "      <td id=\"T_a09d7_row1_col5\" class=\"data row1 col5\" >3</td>\n",
              "    </tr>\n",
              "    <tr>\n",
              "      <th id=\"T_a09d7_level0_row2\" class=\"row_heading level0 row2\" >top</th>\n",
              "      <td id=\"T_a09d7_row2_col0\" class=\"data row2 col0\" >nan</td>\n",
              "      <td id=\"T_a09d7_row2_col1\" class=\"data row2 col1\" >nan</td>\n",
              "      <td id=\"T_a09d7_row2_col2\" class=\"data row2 col2\" >nan</td>\n",
              "      <td id=\"T_a09d7_row2_col3\" class=\"data row2 col3\" >nan</td>\n",
              "      <td id=\"T_a09d7_row2_col4\" class=\"data row2 col4\" >nan</td>\n",
              "      <td id=\"T_a09d7_row2_col5\" class=\"data row2 col5\" >Iris-setosa</td>\n",
              "    </tr>\n",
              "    <tr>\n",
              "      <th id=\"T_a09d7_level0_row3\" class=\"row_heading level0 row3\" >freq</th>\n",
              "      <td id=\"T_a09d7_row3_col0\" class=\"data row3 col0\" >nan</td>\n",
              "      <td id=\"T_a09d7_row3_col1\" class=\"data row3 col1\" >nan</td>\n",
              "      <td id=\"T_a09d7_row3_col2\" class=\"data row3 col2\" >nan</td>\n",
              "      <td id=\"T_a09d7_row3_col3\" class=\"data row3 col3\" >nan</td>\n",
              "      <td id=\"T_a09d7_row3_col4\" class=\"data row3 col4\" >nan</td>\n",
              "      <td id=\"T_a09d7_row3_col5\" class=\"data row3 col5\" >50</td>\n",
              "    </tr>\n",
              "    <tr>\n",
              "      <th id=\"T_a09d7_level0_row4\" class=\"row_heading level0 row4\" >mean</th>\n",
              "      <td id=\"T_a09d7_row4_col0\" class=\"data row4 col0\" >75.500000</td>\n",
              "      <td id=\"T_a09d7_row4_col1\" class=\"data row4 col1\" >5.843333</td>\n",
              "      <td id=\"T_a09d7_row4_col2\" class=\"data row4 col2\" >3.054000</td>\n",
              "      <td id=\"T_a09d7_row4_col3\" class=\"data row4 col3\" >3.758667</td>\n",
              "      <td id=\"T_a09d7_row4_col4\" class=\"data row4 col4\" >1.198667</td>\n",
              "      <td id=\"T_a09d7_row4_col5\" class=\"data row4 col5\" >nan</td>\n",
              "    </tr>\n",
              "    <tr>\n",
              "      <th id=\"T_a09d7_level0_row5\" class=\"row_heading level0 row5\" >std</th>\n",
              "      <td id=\"T_a09d7_row5_col0\" class=\"data row5 col0\" >43.445368</td>\n",
              "      <td id=\"T_a09d7_row5_col1\" class=\"data row5 col1\" >0.828066</td>\n",
              "      <td id=\"T_a09d7_row5_col2\" class=\"data row5 col2\" >0.433594</td>\n",
              "      <td id=\"T_a09d7_row5_col3\" class=\"data row5 col3\" >1.764420</td>\n",
              "      <td id=\"T_a09d7_row5_col4\" class=\"data row5 col4\" >0.763161</td>\n",
              "      <td id=\"T_a09d7_row5_col5\" class=\"data row5 col5\" >nan</td>\n",
              "    </tr>\n",
              "    <tr>\n",
              "      <th id=\"T_a09d7_level0_row6\" class=\"row_heading level0 row6\" >min</th>\n",
              "      <td id=\"T_a09d7_row6_col0\" class=\"data row6 col0\" >1.000000</td>\n",
              "      <td id=\"T_a09d7_row6_col1\" class=\"data row6 col1\" >4.300000</td>\n",
              "      <td id=\"T_a09d7_row6_col2\" class=\"data row6 col2\" >2.000000</td>\n",
              "      <td id=\"T_a09d7_row6_col3\" class=\"data row6 col3\" >1.000000</td>\n",
              "      <td id=\"T_a09d7_row6_col4\" class=\"data row6 col4\" >0.100000</td>\n",
              "      <td id=\"T_a09d7_row6_col5\" class=\"data row6 col5\" >nan</td>\n",
              "    </tr>\n",
              "    <tr>\n",
              "      <th id=\"T_a09d7_level0_row7\" class=\"row_heading level0 row7\" >25%</th>\n",
              "      <td id=\"T_a09d7_row7_col0\" class=\"data row7 col0\" >38.250000</td>\n",
              "      <td id=\"T_a09d7_row7_col1\" class=\"data row7 col1\" >5.100000</td>\n",
              "      <td id=\"T_a09d7_row7_col2\" class=\"data row7 col2\" >2.800000</td>\n",
              "      <td id=\"T_a09d7_row7_col3\" class=\"data row7 col3\" >1.600000</td>\n",
              "      <td id=\"T_a09d7_row7_col4\" class=\"data row7 col4\" >0.300000</td>\n",
              "      <td id=\"T_a09d7_row7_col5\" class=\"data row7 col5\" >nan</td>\n",
              "    </tr>\n",
              "    <tr>\n",
              "      <th id=\"T_a09d7_level0_row8\" class=\"row_heading level0 row8\" >50%</th>\n",
              "      <td id=\"T_a09d7_row8_col0\" class=\"data row8 col0\" >75.500000</td>\n",
              "      <td id=\"T_a09d7_row8_col1\" class=\"data row8 col1\" >5.800000</td>\n",
              "      <td id=\"T_a09d7_row8_col2\" class=\"data row8 col2\" >3.000000</td>\n",
              "      <td id=\"T_a09d7_row8_col3\" class=\"data row8 col3\" >4.350000</td>\n",
              "      <td id=\"T_a09d7_row8_col4\" class=\"data row8 col4\" >1.300000</td>\n",
              "      <td id=\"T_a09d7_row8_col5\" class=\"data row8 col5\" >nan</td>\n",
              "    </tr>\n",
              "    <tr>\n",
              "      <th id=\"T_a09d7_level0_row9\" class=\"row_heading level0 row9\" >75%</th>\n",
              "      <td id=\"T_a09d7_row9_col0\" class=\"data row9 col0\" >112.750000</td>\n",
              "      <td id=\"T_a09d7_row9_col1\" class=\"data row9 col1\" >6.400000</td>\n",
              "      <td id=\"T_a09d7_row9_col2\" class=\"data row9 col2\" >3.300000</td>\n",
              "      <td id=\"T_a09d7_row9_col3\" class=\"data row9 col3\" >5.100000</td>\n",
              "      <td id=\"T_a09d7_row9_col4\" class=\"data row9 col4\" >1.800000</td>\n",
              "      <td id=\"T_a09d7_row9_col5\" class=\"data row9 col5\" >nan</td>\n",
              "    </tr>\n",
              "    <tr>\n",
              "      <th id=\"T_a09d7_level0_row10\" class=\"row_heading level0 row10\" >max</th>\n",
              "      <td id=\"T_a09d7_row10_col0\" class=\"data row10 col0\" >150.000000</td>\n",
              "      <td id=\"T_a09d7_row10_col1\" class=\"data row10 col1\" >7.900000</td>\n",
              "      <td id=\"T_a09d7_row10_col2\" class=\"data row10 col2\" >4.400000</td>\n",
              "      <td id=\"T_a09d7_row10_col3\" class=\"data row10 col3\" >6.900000</td>\n",
              "      <td id=\"T_a09d7_row10_col4\" class=\"data row10 col4\" >2.500000</td>\n",
              "      <td id=\"T_a09d7_row10_col5\" class=\"data row10 col5\" >nan</td>\n",
              "    </tr>\n",
              "  </tbody>\n",
              "</table>\n"
            ]
          },
          "metadata": {}
        }
      ]
    },
    {
      "cell_type": "markdown",
      "source": [
        "### <h2 style=\"color:#117A65;\">🔹 Step 6: Missing Values</h2>\n"
      ],
      "metadata": {
        "id": "oWZ1HOi114EZ"
      }
    },
    {
      "cell_type": "code",
      "source": [
        "missing = df.isnull().sum().reset_index()\n",
        "missing.columns = [\"Column\", \"Missing Values\"]\n",
        "\n",
        "display(HTML(\"<h3 style='color:#1F618D;'> Missing Values</h3>\"))\n",
        "display(missing.style.set_table_styles([\n",
        "    {\"selector\": \"th\", \"props\": [(\"background-color\", \"#F5B7B1\"), (\"color\", \"black\"), (\"font-weight\", \"bold\")]},\n",
        "    {\"selector\": \"td\", \"props\": [(\"border\", \"1px solid #34495E\"), (\"padding\", \"6px\")]}\n",
        "]).set_properties(**{'text-align': 'center'}))\n",
        "\n"
      ],
      "metadata": {
        "colab": {
          "base_uri": "https://localhost:8080/",
          "height": 279
        },
        "id": "P5GUc5KM11N2",
        "outputId": "44891381-cacd-425e-8d14-fde5ba179178"
      },
      "execution_count": 15,
      "outputs": [
        {
          "output_type": "display_data",
          "data": {
            "text/plain": [
              "<IPython.core.display.HTML object>"
            ],
            "text/html": [
              "<h3 style='color:#1F618D;'> Missing Values</h3>"
            ]
          },
          "metadata": {}
        },
        {
          "output_type": "display_data",
          "data": {
            "text/plain": [
              "<pandas.io.formats.style.Styler at 0x7ec54e80dc40>"
            ],
            "text/html": [
              "<style type=\"text/css\">\n",
              "#T_1cc7c th {\n",
              "  background-color: #F5B7B1;\n",
              "  color: black;\n",
              "  font-weight: bold;\n",
              "}\n",
              "#T_1cc7c td {\n",
              "  border: 1px solid #34495E;\n",
              "  padding: 6px;\n",
              "}\n",
              "#T_1cc7c_row0_col0, #T_1cc7c_row0_col1, #T_1cc7c_row1_col0, #T_1cc7c_row1_col1, #T_1cc7c_row2_col0, #T_1cc7c_row2_col1, #T_1cc7c_row3_col0, #T_1cc7c_row3_col1, #T_1cc7c_row4_col0, #T_1cc7c_row4_col1, #T_1cc7c_row5_col0, #T_1cc7c_row5_col1 {\n",
              "  text-align: center;\n",
              "}\n",
              "</style>\n",
              "<table id=\"T_1cc7c\" class=\"dataframe\">\n",
              "  <thead>\n",
              "    <tr>\n",
              "      <th class=\"blank level0\" >&nbsp;</th>\n",
              "      <th id=\"T_1cc7c_level0_col0\" class=\"col_heading level0 col0\" >Column</th>\n",
              "      <th id=\"T_1cc7c_level0_col1\" class=\"col_heading level0 col1\" >Missing Values</th>\n",
              "    </tr>\n",
              "  </thead>\n",
              "  <tbody>\n",
              "    <tr>\n",
              "      <th id=\"T_1cc7c_level0_row0\" class=\"row_heading level0 row0\" >0</th>\n",
              "      <td id=\"T_1cc7c_row0_col0\" class=\"data row0 col0\" >Id</td>\n",
              "      <td id=\"T_1cc7c_row0_col1\" class=\"data row0 col1\" >0</td>\n",
              "    </tr>\n",
              "    <tr>\n",
              "      <th id=\"T_1cc7c_level0_row1\" class=\"row_heading level0 row1\" >1</th>\n",
              "      <td id=\"T_1cc7c_row1_col0\" class=\"data row1 col0\" >SepalLengthCm</td>\n",
              "      <td id=\"T_1cc7c_row1_col1\" class=\"data row1 col1\" >0</td>\n",
              "    </tr>\n",
              "    <tr>\n",
              "      <th id=\"T_1cc7c_level0_row2\" class=\"row_heading level0 row2\" >2</th>\n",
              "      <td id=\"T_1cc7c_row2_col0\" class=\"data row2 col0\" >SepalWidthCm</td>\n",
              "      <td id=\"T_1cc7c_row2_col1\" class=\"data row2 col1\" >0</td>\n",
              "    </tr>\n",
              "    <tr>\n",
              "      <th id=\"T_1cc7c_level0_row3\" class=\"row_heading level0 row3\" >3</th>\n",
              "      <td id=\"T_1cc7c_row3_col0\" class=\"data row3 col0\" >PetalLengthCm</td>\n",
              "      <td id=\"T_1cc7c_row3_col1\" class=\"data row3 col1\" >0</td>\n",
              "    </tr>\n",
              "    <tr>\n",
              "      <th id=\"T_1cc7c_level0_row4\" class=\"row_heading level0 row4\" >4</th>\n",
              "      <td id=\"T_1cc7c_row4_col0\" class=\"data row4 col0\" >PetalWidthCm</td>\n",
              "      <td id=\"T_1cc7c_row4_col1\" class=\"data row4 col1\" >0</td>\n",
              "    </tr>\n",
              "    <tr>\n",
              "      <th id=\"T_1cc7c_level0_row5\" class=\"row_heading level0 row5\" >5</th>\n",
              "      <td id=\"T_1cc7c_row5_col0\" class=\"data row5 col0\" >Species</td>\n",
              "      <td id=\"T_1cc7c_row5_col1\" class=\"data row5 col1\" >0</td>\n",
              "    </tr>\n",
              "  </tbody>\n",
              "</table>\n"
            ]
          },
          "metadata": {}
        }
      ]
    },
    {
      "cell_type": "code",
      "source": [],
      "metadata": {
        "id": "2e31hpoX17bt"
      },
      "execution_count": null,
      "outputs": []
    }
  ]
}